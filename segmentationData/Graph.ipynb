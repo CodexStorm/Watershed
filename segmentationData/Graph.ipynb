{
  "nbformat": 4,
  "nbformat_minor": 0,
  "metadata": {
    "colab": {
      "provenance": []
    },
    "kernelspec": {
      "name": "python3",
      "display_name": "Python 3"
    },
    "language_info": {
      "name": "python"
    }
  },
  "cells": [
    {
      "cell_type": "code",
      "source": [
        "%%capture\n",
        "# Install required dependencies: Pandas, Scipy, Matplotlib (and Numpy, implicitly)\n",
        "import sys\n",
        "!{sys.executable} -m pip install pip==21.3 --upgrade\n",
        "!{sys.executable} -m pip install --prefer-binary matplotlib==3.3.4 pandas==1.1.5\n",
        "\n",
        "import pandas as pd\n",
        "import matplotlib.pyplot as plt"
      ],
      "metadata": {
        "id": "qiD9wPH8RKwn"
      },
      "execution_count": null,
      "outputs": []
    },
    {
      "cell_type": "code",
      "source": [
        "\n",
        "\n",
        "col_list = [\"Area\", \"IntDen\"]\n",
        "df = pd.read_csv(\"data1.csv\", usecols=col_list)\n",
        "\n",
        "area = list(df[\"Area\"])\n",
        "y1 = list(df[\"IntDen\"])\n",
        "\n",
        "df = pd.read_csv(\"data2.csv\", usecols=col_list)\n",
        "y2 = list(df[\"IntDen\"])\n",
        "\n"
      ],
      "metadata": {
        "id": "fGU_KHIy40WK"
      },
      "execution_count": null,
      "outputs": []
    },
    {
      "cell_type": "code",
      "source": [
        "\n",
        "\n",
        "fig = plt.figure()\n",
        "ax1 = fig.add_subplot(111)\n",
        "\n",
        "ax1.scatter(area, y1, s=10, c='b', marker=\"s\", label='first')\n",
        "ax1.scatter(area, y2, s=10, c='r', marker=\"o\", label='second')\n",
        "plt.legend(loc='upper left')\n",
        "plt.show()"
      ],
      "metadata": {
        "colab": {
          "base_uri": "https://localhost:8080/",
          "height": 265
        },
        "id": "Iy5jmBh131wv",
        "outputId": "add999ac-4dac-4cbc-dce1-0e8376d8e9b1"
      },
      "execution_count": null,
      "outputs": [
        {
          "output_type": "display_data",
          "data": {
            "text/plain": [
              "<Figure size 432x288 with 1 Axes>"
            ],
            "image/png": "[encoded data removed]"
          },
          "metadata": {
            "needs_background": "light"
          }
        }
      ]
    }
  ]
}