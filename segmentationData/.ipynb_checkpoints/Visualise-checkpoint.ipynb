{
 "cells": [
  {
   "cell_type": "code",
   "execution_count": 1,
   "metadata": {
    "id": "qiD9wPH8RKwn"
   },
   "outputs": [],
   "source": [
    "%%capture\n",
    "# Install required dependencies: Pandas, Scipy, Matplotlib (and Numpy, implicitly)\n",
    "import sys\n",
    "!{sys.executable} -m pip install pip==21.3 --upgrade\n",
    "!{sys.executable} -m pip install --prefer-binary matplotlib==3.3.4 pandas==1.1.5"
   ]
  },
  {
   "cell_type": "code",
   "execution_count": 2,
   "metadata": {
    "id": "fGU_KHIy40WK"
   },
   "outputs": [],
   "source": [
    "import pandas as pd\n",
    "\n",
    "col_list = [\"Area\", \"IntDen\"]\n",
    "df = pd.read_csv(\"data1.csv\", usecols=col_list)\n",
    "\n",
    "area = list(df[\"Area\"])\n",
    "y1 = list(df[\"IntDen\"])\n",
    "\n",
    "df = pd.read_csv(\"data2.csv\", usecols=col_list)\n",
    "y2 = list(df[\"IntDen\"])\n",
    "\n"
   ]
  },
  {
   "cell_type": "code",
   "execution_count": 3,
   "metadata": {
    "colab": {
     "base_uri": "https://localhost:8080/",
     "height": 265
    },
    "id": "Iy5jmBh131wv",
    "outputId": "add999ac-4dac-4cbc-dce1-0e8376d8e9b1"
   },
   "outputs": [
    {
     "data": {
      "text/plain": [
       "<Figure size 640x480 with 1 Axes>"
      ]
     },
     "metadata": {},
     "output_type": "display_data"
    }
   ],
   "source": [
    "import matplotlib.pyplot as plt\n",
    "\n",
    "fig = plt.figure()\n",
    "ax1 = fig.add_subplot(111)\n",
    "\n",
    "ax1.scatter(area, y1, s=10, c='b', marker=\"s\", label='first')\n",
    "ax1.scatter(area, y2, s=10, c='r', marker=\"o\", label='second')\n",
    "plt.legend(loc='upper left');\n",
    "plt.show()"
   ]
  }
 ],
 "metadata": {
  "colab": {
   "provenance": []
  },
  "kernelspec": {
   "display_name": "Python 3",
   "language": "python",
   "name": "python3"
  },
  "language_info": {
   "codemirror_mode": {
    "name": "ipython",
    "version": 3
   },
   "file_extension": ".py",
   "mimetype": "text/x-python",
   "name": "python",
   "nbconvert_exporter": "python",
   "pygments_lexer": "ipython3",
   "version": "3.6.5"
  }
 },
 "nbformat": 4,
 "nbformat_minor": 1
}
